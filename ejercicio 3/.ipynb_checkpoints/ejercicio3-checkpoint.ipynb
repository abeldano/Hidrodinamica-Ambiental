{
 "cells": [
  {
   "cell_type": "code",
   "execution_count": 2,
   "id": "9b74f04e",
   "metadata": {},
   "outputs": [],
   "source": [
    "import numpy as np\n",
    "import matplotlib.pyplot as plt"
   ]
  },
  {
   "cell_type": "markdown",
   "id": "45c71e7c",
   "metadata": {},
   "source": [
    "## Parámetros de fitoplancton \"Algas verdes\"o \"Clorofíceas\""
   ]
  },
  {
   "cell_type": "code",
   "execution_count": 3,
   "id": "8db5f588",
   "metadata": {},
   "outputs": [],
   "source": [
    "cloroficeas={\n",
    "\"alpha_max\" : 1.75, #1/día\n",
    "\"k_r\" : 0.3, #1/día\n",
    "\"theta\" : 1.07, \n",
    "\"k\" : 4.962,\n",
    "\"a\" : 31.957,\n",
    "\"b\" : 0.018,\n",
    "\"I_k\" : 60, # W/m^2\n",
    "\"k_N\" : 0.0115, # mg/l\n",
    "}"
   ]
  },
  {
   "cell_type": "markdown",
   "id": "cce85ddf",
   "metadata": {},
   "source": [
    "## Parte A"
   ]
  },
  {
   "cell_type": "code",
   "execution_count": 41,
   "id": "bde6479c",
   "metadata": {},
   "outputs": [],
   "source": [
    "def odeEuler(f,y0,t,chla=False):\n",
    "    '''Approximate the solution of y'=f(y,t) by Euler's method.\n",
    "\n",
    "    Parameters\n",
    "    ----------\n",
    "    f : function\n",
    "        Right-hand side of the differential equation y'=f(t,y), y(t_0)=y_0\n",
    "    y0 : number\n",
    "        Initial value y(t0)=y0 wher t0 is the entry at index 0 in the array t\n",
    "    t : array\n",
    "        1D NumPy array of t values where we approximate y values. Time step\n",
    "        at each iteration is given by t[n+1] - t[n].\n",
    "\n",
    "    Returns\n",
    "    -------\n",
    "    y : 1D NumPy array\n",
    "        Approximation y[n] of the solution y(t_n) computed by Euler's method.\n",
    "    '''\n",
    "    y = np.zeros(len(t))\n",
    "    y[0] = y0\n",
    "    chla_min = 10**(-6)\n",
    "    if chla==True:\n",
    "        for n in range(0,len(t)-1):\n",
    "            y_prox = y[n] + f(y[n],t[n])*(t[n+1] - t[n])\n",
    "            if y_prox < chla_min:\n",
    "                y[n+1] = chla_min\n",
    "            else:\n",
    "                y[n+1] = y_prox\n",
    "    else:\n",
    "        for n in range(0,len(t)-1):\n",
    "            y[n+1] = y[n] + f(y[n],t[n])*(t[n+1] - t[n])\n",
    "    return y"
   ]
  },
  {
   "cell_type": "code",
   "execution_count": 5,
   "id": "191a881e",
   "metadata": {},
   "outputs": [],
   "source": [
    "def I(t):\n",
    "    return 150 + 100*np.cos(2*np.pi/365*(t + 11))"
   ]
  },
  {
   "cell_type": "code",
   "execution_count": 6,
   "id": "3b5497f7",
   "metadata": {},
   "outputs": [],
   "source": [
    "def Td(t):\n",
    "    return 11 + 4*np.cos(2*np.pi/365*(t - 10))"
   ]
  },
  {
   "cell_type": "code",
   "execution_count": 7,
   "id": "0b786d2b",
   "metadata": {},
   "outputs": [],
   "source": [
    "def Tm(T,t):\n",
    "    return (T + Td(t))/2"
   ]
  },
  {
   "cell_type": "code",
   "execution_count": 8,
   "id": "414eb1aa",
   "metadata": {},
   "outputs": [],
   "source": [
    "def beta_c(T,t):\n",
    "    return 0.35 + 0.015*Tm(T,t) + 0.0012*(Tm(T,t))**2"
   ]
  },
  {
   "cell_type": "code",
   "execution_count": 9,
   "id": "2c90567b",
   "metadata": {},
   "outputs": [],
   "source": [
    "def f_uw(uw):\n",
    "    return 9.2 + 0.46*uw**2"
   ]
  },
  {
   "cell_type": "code",
   "execution_count": 10,
   "id": "6b4c847c",
   "metadata": {},
   "outputs": [],
   "source": [
    "def Ce(T,t,uw=4.8):\n",
    "    return 4.5 + 0.05*T + (beta_c(T,t) + 0.47)*f_uw(uw)"
   ]
  },
  {
   "cell_type": "code",
   "execution_count": 11,
   "id": "58fd460e",
   "metadata": {},
   "outputs": [],
   "source": [
    "def Te(T,t):\n",
    "    return Td(t) + I(t)/Ce(T,t)"
   ]
  },
  {
   "cell_type": "code",
   "execution_count": 12,
   "id": "f42501ea",
   "metadata": {},
   "outputs": [],
   "source": [
    "def Hn(T,t):\n",
    "    return Ce(T,t)*(Te(T,t) - T)"
   ]
  },
  {
   "cell_type": "code",
   "execution_count": 42,
   "id": "2303c576",
   "metadata": {
    "scrolled": false
   },
   "outputs": [
    {
     "data": {
      "image/png": "[encoded data removed]",
      "text/plain": [
       "<Figure size 432x288 with 1 Axes>"
      ]
     },
     "metadata": {
      "needs_background": "light"
     },
     "output_type": "display_data"
    }
   ],
   "source": [
    "Cp = 4181.3 # calor específico del agua (J/°C/kg)\n",
    "rho_w = 1000 # densidad del agua (kg/m^3)\n",
    "D = 10 # profundidad del lago (m)\n",
    "t = np.arange(1,366)\n",
    "f1 = lambda T,t: Hn(T,t)*60*60*24/(Cp*rho_w*D)\n",
    "T0 = 18 # temperatura inicial (°C)\n",
    "T_anual = odeEuler(f1,T0,t)\n",
    "plt.plot(t,T_anual,'b.-')\n",
    "plt.grid(True)\n",
    "plt.title(\"Variación anual de Temperatura (solución numérica)\")\n",
    "plt.show()"
   ]
  },
  {
   "cell_type": "markdown",
   "id": "efaca3e3",
   "metadata": {},
   "source": [
    "## Parte B"
   ]
  },
  {
   "cell_type": "code",
   "execution_count": 15,
   "id": "fd2ba221",
   "metadata": {},
   "outputs": [],
   "source": [
    "def f_T(T, fitopl=cloroficeas):\n",
    "    theta,k,a,b = list( map(fitopl.get, ['theta','k','a','b']) )\n",
    "    return theta**(T - 20) - theta**(k*(T - a)) + b"
   ]
  },
  {
   "cell_type": "code",
   "execution_count": 19,
   "id": "19fde098",
   "metadata": {},
   "outputs": [],
   "source": [
    "def f_I(t, fitopl=cloroficeas):\n",
    "    I_k = fitopl['I_k']\n",
    "    return 1 - np.exp(-I(t)/I_k)"
   ]
  },
  {
   "cell_type": "code",
   "execution_count": 58,
   "id": "d2d5a8a6",
   "metadata": {},
   "outputs": [
    {
     "data": {
      "text/plain": [
       "[<matplotlib.lines.Line2D at 0x2028296ac40>]"
      ]
     },
     "execution_count": 58,
     "metadata": {},
     "output_type": "execute_result"
    },
    {
     "data": {
      "image/png": "[encoded data removed]",
      "text/plain": [
       "<Figure size 432x288 with 1 Axes>"
      ]
     },
     "metadata": {
      "needs_background": "light"
     },
     "output_type": "display_data"
    }
   ],
   "source": [
    "plt.plot(t,f_I(t),'b.-')"
   ]
  },
  {
   "cell_type": "code",
   "execution_count": 97,
   "id": "cd8ed9a7",
   "metadata": {},
   "outputs": [],
   "source": [
    "def N(t, dN, chla, N_0=0.1, k_chla=0.05):\n",
    "    return N_0 + dN * np.cos(2*np.pi/365*(t+30)) - k_chla * chla"
   ]
  },
  {
   "cell_type": "code",
   "execution_count": 21,
   "id": "e3c6b750",
   "metadata": {},
   "outputs": [],
   "source": [
    "def f_N(t, dN, chla, fitopl=cloroficeas):\n",
    "    k_N = fitopl['k_N']\n",
    "    return N(t, dN, chla)/(N(t, dN, chla) + k_N)"
   ]
  },
  {
   "cell_type": "code",
   "execution_count": 32,
   "id": "162931a9",
   "metadata": {},
   "outputs": [],
   "source": [
    "def alpha(T, t, dN, chla, fitopl=cloroficeas):\n",
    "    alpha_max = fitopl['alpha_max']\n",
    "    return alpha_max * min(f_I(t) , f_N(t, dN, chla)) * f_T(T)"
   ]
  },
  {
   "cell_type": "code",
   "execution_count": 23,
   "id": "98da1394",
   "metadata": {},
   "outputs": [],
   "source": [
    "def beta(T, fitopl=cloroficeas):\n",
    "    k_r = fitopl['k_r']\n",
    "    return k_r * f_T(T)"
   ]
  },
  {
   "cell_type": "code",
   "execution_count": 98,
   "id": "58fd423d",
   "metadata": {},
   "outputs": [
    {
     "data": {
      "image/png": "[encoded data removed]",
      "text/plain": [
       "<Figure size 432x288 with 1 Axes>"
      ]
     },
     "metadata": {
      "needs_background": "light"
     },
     "output_type": "display_data"
    }
   ],
   "source": [
    "f2 = lambda chla,t: (alpha(T_anual[t-1], t, 0.01, chla) - beta(T_anual[t-1]))*chla\n",
    "t = np.arange(1,366)\n",
    "T_anual = odeEuler(f1,T0,t)\n",
    "chla_0 = 10**(-6) # microg/l\n",
    "chla_anual = odeEuler(f2, chla_0, t, chla=True)\n",
    "plt.plot(t,chla_anual,'b.-')\n",
    "plt.grid(True)\n",
    "plt.title(\"Variación anual de ChlA (solución numérica)\")\n",
    "plt.show()"
   ]
  }
 ],
 "metadata": {
  "kernelspec": {
   "display_name": "Python 3 (ipykernel)",
   "language": "python",
   "name": "python3"
  },
  "language_info": {
   "codemirror_mode": {
    "name": "ipython",
    "version": 3
   },
   "file_extension": ".py",
   "mimetype": "text/x-python",
   "name": "python",
   "nbconvert_exporter": "python",
   "pygments_lexer": "ipython3",
   "version": "3.8.13"
  }
 },
 "nbformat": 4,
 "nbformat_minor": 5
}
