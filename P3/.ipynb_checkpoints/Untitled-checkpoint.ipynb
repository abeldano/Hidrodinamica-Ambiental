{
 "cells": [
  {
   "cell_type": "code",
   "execution_count": 106,
   "id": "456e74cd",
   "metadata": {},
   "outputs": [
    {
     "data": {
      "image/png": "[encoded data removed]",
      "text/plain": [
       "<Figure size 432x288 with 1 Axes>"
      ]
     },
     "metadata": {
      "needs_background": "light"
     },
     "output_type": "display_data"
    }
   ],
   "source": [
    "from scipy.stats import norm\n",
    "import numpy as np\n",
    "import matplotlib.pyplot as plt\n",
    "\n",
    "# Cornell\n",
    "\n",
    "M = np.arange(8, 10, 0.1)\n",
    "R = 63 #km\n",
    "\n",
    "def lnPGA(M,R):\n",
    "    return -0.152 + 0.859*M - 1.803*np.log(R+25)\n",
    "\n",
    "PGA_min = 0.4\n",
    "sd = 0.57\n",
    "x = np.arange(0.4, 1.6, 0.03)\n",
    "ln_x = np.log(x)\n",
    "\n",
    "# Gutenberg Richter\n",
    "a = 5.36\n",
    "b = 0.88\n",
    "m_min = 8\n",
    "\n",
    "#curva de amenaza\n",
    "lambda_PGA = []\n",
    "for i in range(len(x)):\n",
    "    Prob_PGA_M = []\n",
    "    for j in range(len(M)):\n",
    "        Prob_PGA = 1-norm.cdf(ln_x[i], loc=lnPGA(M[j],R), scale=sd)\n",
    "        Prob_M = norm.pdf(M[j], loc=7, scale=sd)\n",
    "        Prob_PGA_M.append(Prob_PGA * Prob_M)\n",
    "    lambda_m = 10**(a-b*m_min)\n",
    "    lambda_PGA.append(lambda_m * sum(Prob_PGA_M))\n",
    "\n",
    "plt.loglog(x, lambda_PGA)\n",
    "plt.ylabel(\"Tasa de excedencia anual\")\n",
    "plt.xlabel(\"PGA (g)\")\n",
    "plt.show()"
   ]
  },
  {
   "cell_type": "code",
   "execution_count": 99,
   "id": "ff8429c7",
   "metadata": {
    "scrolled": true
   },
   "outputs": [
    {
     "data": {
      "text/plain": [
       "[0.0015848861903063893,\n",
       " 0.002554546818479886,\n",
       " 0.004032076001883045,\n",
       " 0.006233012943825167,\n",
       " 0.009438059745897176,\n",
       " 0.014000701922109893,\n",
       " 0.02035040941820898,\n",
       " 0.02898906812750257,\n",
       " 0.040478385181404786,\n",
       " 0.05541655611750318,\n",
       " 0.07440353901302954,\n",
       " 0.09799581432577975,\n",
       " 0.12665336303704255,\n",
       " 0.1606834925817342,\n",
       " 0.20018771557603854,\n",
       " 0.24501875526800299,\n",
       " 0.29475459649394375,\n",
       " 0.3486951625645317,\n",
       " 0.4058847429177458,\n",
       " 0.46516003469779044]"
      ]
     },
     "execution_count": 99,
     "metadata": {},
     "output_type": "execute_result"
    }
   ],
   "source": [
    "Prob_PGA_M"
   ]
  },
  {
   "cell_type": "code",
   "execution_count": 37,
   "id": "a5675be0",
   "metadata": {},
   "outputs": [
    {
     "data": {
      "text/plain": [
       "[0.2865473842943407,\n",
       " 0.27247993492793193,\n",
       " 0.25895631888690734,\n",
       " 0.24600591947870756,\n",
       " 0.23364006630301112,\n",
       " 0.221857618875276,\n",
       " 0.21064896794644866,\n",
       " 0.19999888522103298,\n",
       " 0.18988854332241706,\n",
       " 0.18029694148185071,\n",
       " 0.17120190706383548,\n",
       " 0.16258079489652913,\n",
       " 0.15441097148383376,\n",
       " 0.14667014613412646,\n",
       " 0.13933659317138594,\n",
       " 0.13238929668309082,\n",
       " 0.12580804022900408,\n",
       " 0.11957345752039598,\n",
       " 0.11366705551916499,\n",
       " 0.10807121815995499]"
      ]
     },
     "execution_count": 37,
     "metadata": {},
     "output_type": "execute_result"
    }
   ],
   "source": [
    "lambda_PGA"
   ]
  }
 ],
 "metadata": {
  "kernelspec": {
   "display_name": "Python 3 (ipykernel)",
   "language": "python",
   "name": "python3"
  },
  "language_info": {
   "codemirror_mode": {
    "name": "ipython",
    "version": 3
   },
   "file_extension": ".py",
   "mimetype": "text/x-python",
   "name": "python",
   "nbconvert_exporter": "python",
   "pygments_lexer": "ipython3",
   "version": "3.8.13"
  }
 },
 "nbformat": 4,
 "nbformat_minor": 5
}
