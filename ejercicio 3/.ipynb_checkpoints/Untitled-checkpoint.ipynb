{
 "cells": [
  {
   "cell_type": "code",
   "execution_count": 2,
   "id": "9b74f04e",
   "metadata": {},
   "outputs": [],
   "source": [
    "import numpy as np\n",
    "import matplotlib.pyplot as plt"
   ]
  },
  {
   "cell_type": "code",
   "execution_count": 3,
   "id": "bde6479c",
   "metadata": {},
   "outputs": [],
   "source": [
    "def odeEuler(f,y0,t):\n",
    "    '''Approximate the solution of y'=f(y,t) by Euler's method.\n",
    "\n",
    "    Parameters\n",
    "    ----------\n",
    "    f : function\n",
    "        Right-hand side of the differential equation y'=f(t,y), y(t_0)=y_0\n",
    "    y0 : number\n",
    "        Initial value y(t0)=y0 wher t0 is the entry at index 0 in the array t\n",
    "    t : array\n",
    "        1D NumPy array of t values where we approximate y values. Time step\n",
    "        at each iteration is given by t[n+1] - t[n].\n",
    "\n",
    "    Returns\n",
    "    -------\n",
    "    y : 1D NumPy array\n",
    "        Approximation y[n] of the solution y(t_n) computed by Euler's method.\n",
    "    '''\n",
    "    y = np.zeros(len(t))\n",
    "    y[0] = y0\n",
    "    for n in range(0,len(t)-1):\n",
    "        y[n+1] = y[n] + f(y[n],t[n])*(t[n+1] - t[n])\n",
    "    return y"
   ]
  },
  {
   "cell_type": "code",
   "execution_count": 4,
   "id": "191a881e",
   "metadata": {},
   "outputs": [],
   "source": [
    "def I(t):\n",
    "    return 150 + 100*np.cos(2*np.pi/365*(t + 11))"
   ]
  },
  {
   "cell_type": "code",
   "execution_count": 5,
   "id": "3b5497f7",
   "metadata": {},
   "outputs": [],
   "source": [
    "def Td(t):\n",
    "    return 11 + 4*np.cos(2*np.pi/365*(t - 10))"
   ]
  },
  {
   "cell_type": "code",
   "execution_count": 6,
   "id": "0b786d2b",
   "metadata": {},
   "outputs": [],
   "source": [
    "def Tm(T,t):\n",
    "    return (T + Td(t))/2"
   ]
  },
  {
   "cell_type": "code",
   "execution_count": 7,
   "id": "414eb1aa",
   "metadata": {},
   "outputs": [],
   "source": [
    "def beta_c(T,t):\n",
    "    return 0.35 + 0.015*Tm(T,t) + 0.0012*(Tm(T,t))**2"
   ]
  },
  {
   "cell_type": "code",
   "execution_count": 8,
   "id": "2c90567b",
   "metadata": {},
   "outputs": [],
   "source": [
    "def f_uw(uw):\n",
    "    return 9.2 + 0.46*uw**2"
   ]
  },
  {
   "cell_type": "code",
   "execution_count": 9,
   "id": "6b4c847c",
   "metadata": {},
   "outputs": [],
   "source": [
    "def Ce(T,t,uw=4.8):\n",
    "    return 4.5 + 0.05*T + (beta_c(T,t) + 0.47)*f_uw(uw)"
   ]
  },
  {
   "cell_type": "code",
   "execution_count": 10,
   "id": "58fd460e",
   "metadata": {},
   "outputs": [],
   "source": [
    "def Te(T,t):\n",
    "    return Td(t) + I(t)/Ce(T,t)"
   ]
  },
  {
   "cell_type": "code",
   "execution_count": 11,
   "id": "f42501ea",
   "metadata": {},
   "outputs": [],
   "source": [
    "def Hn(T,t):\n",
    "    return Ce(T,t)*(Te(T,t) - T)"
   ]
  },
  {
   "cell_type": "code",
   "execution_count": 22,
   "id": "2303c576",
   "metadata": {
    "scrolled": false
   },
   "outputs": [
    {
     "data": {
      "image/png": "[encoded data removed]",
      "text/plain": [
       "<Figure size 432x288 with 1 Axes>"
      ]
     },
     "metadata": {
      "needs_background": "light"
     },
     "output_type": "display_data"
    }
   ],
   "source": [
    "Cp = 4181.3 # calor específico del agua (J/°C/kg)\n",
    "rho_w = 1000 # densidad del agua (kg/m^3)\n",
    "D = 10 # profundidad del lago (m)\n",
    "t = np.arange(1,366)\n",
    "f = lambda T,t: Hn(T,t)*60*60*24/(Cp*rho_w*D)\n",
    "T0 = 18 # temperatura inicial (°C)\n",
    "T = odeEuler(f,T0,t)\n",
    "plt.plot(t,T,'b.-')\n",
    "#plt.axis([0,2,0,9])\n",
    "plt.grid(True)\n",
    "plt.title(\"Variación anual de Temperatura (solución numérica)\")\n",
    "plt.show()"
   ]
  }
 ],
 "metadata": {
  "kernelspec": {
   "display_name": "Python 3 (ipykernel)",
   "language": "python",
   "name": "python3"
  },
  "language_info": {
   "codemirror_mode": {
    "name": "ipython",
    "version": 3
   },
   "file_extension": ".py",
   "mimetype": "text/x-python",
   "name": "python",
   "nbconvert_exporter": "python",
   "pygments_lexer": "ipython3",
   "version": "3.8.13"
  }
 },
 "nbformat": 4,
 "nbformat_minor": 5
}
